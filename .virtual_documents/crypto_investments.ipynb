





# Import required libraries and dependencies
import pandas as pd
import hvplot.pandas
from pathlib import Path
from sklearn.cluster import KMeans
from sklearn.decomposition import PCA
from sklearn.preprocessing import StandardScaler


# Load the data into a Pandas DataFrame
df_market_data = pd.read_csv(
    Path("crypto_market_data.csv"),
    index_col="coin_id")

# Display sample data
df_market_data.head(10)


# Generate summary statistics
df_market_data.describe()


# Plot your data to see what's in your DataFrame
df_market_data.hvplot.line(
    width=800,
    height=400,
    rot=90
)








# Use the `StandardScaler()` module from scikit-learn to normalize the data from the CSV file
scaled_data = StandardScaler().fit_transform(df_market_data)


# Create a DataFrame with the scaled data
df_market_data_scaled = pd.DataFrame(
    scaled_data,
    columns=df_market_data.columns
)

# Copy the crypto names from the original data
df_market_data_scaled["coin_id"] = df_market_data.index

# Set the coinid column as index
df_market_data_scaled = df_market_data_scaled.set_index("coin_id")

# Display sample data
df_market_data_scaled.head()








# Create a list with the number of k-values to try
# Use a range from 1 to 11
# YOUR CODE HERE!
k = list(range(1, 11))


# Create an empy list to store the inertia values
# YOUR CODE HERE!
inertia = []


# Create a for loop to compute the inertia with each possible value of k
# Inside the loop:
# 1. Create a KMeans model using the loop counter for the n_clusters
# 2. Fit the model to the data using `df_market_data_scaled`
# 3. Append the model.inertia_ to the inertia list
# YOUR CODE HERE!
for i in k:
    k_model = KMeans(n_clusters=i, random_state=1)
    k_model.fit(df_market_data_scaled)
    inertia.append(k_model.inertia_)


# Create a dictionary with the data to plot the Elbow curve
# YOUR CODE HERE!
elbow_data = {"k": k, "inertia": inertia}
# Create a DataFrame with the data to plot the Elbow curve
# YOUR CODE HERE!
df_elbow = pd.DataFrame(elbow_data)
df_elbow.head()


# Plot a line chart with all the inertia values computed with 
# the different values of k to visually identify the optimal value for k.
# YOUR CODE HERE!
df_elbow.hvplot.line(
    x="k", 
    y="inertia", 
    title="Elbow Curve", 
    xticks=k
)











# Initialize the K-Means model using the best value for k
# YOUR CODE HERE!
model = KMeans(n_clusters=4, random_state=1)


# Fit the K-Means model using the scaled data
# YOUR CODE HERE
model.fit(df_market_data_scaled)


# Predict the clusters to group the cryptocurrencies using the scaled data
# YOUR CODE HERE!
k_4 = model.predict(df_market_data_scaled)
# View the resulting array of cluster values.
# YOUR CODE HERE!
k_4



# Create a copy of the DataFrame
# YOUR CODE HERE!
df_market_data_scaled_predictions = df_market_data_scaled.copy()


# Add a new column to the DataFrame with the predicted clusters
# YOUR CODE HERE!
df_market_data_scaled_predictions['clusters_prediction'] = k_4
# Display sample data
# YOUR CODE HERE!
df_market_data_scaled_predictions


# Create a scatter plot using hvPlot by setting 
# `x="price_change_percentage_24h"` and `y="price_change_percentage_7d"`. 
# Color the graph points with the labels found using K-Means and 
# add the crypto name in the `hover_cols` parameter to identify 
# the cryptocurrency represented by each data point.
# YOUR CODE HERE!
df_market_data_scaled_predictions.hvplot.scatter(
    x="price_change_percentage_24h",
    y="price_change_percentage_7d",
    by="clusters_prediction",
    hover_cols=['coin_id']
    
).opts(yformatter="%.0f")








# Create a PCA model instance and set `n_components=3`.
# YOUR CODE HERE!
pca=PCA(n_components=3)


# Use the PCA model with `fit_transform` to reduce to 
# three principal components.
# YOUR CODE HERE!
market_data_pca = pca.fit_transform(df_market_data_scaled)
df_market_data_pca = pd.DataFrame(
    data=market_data_pca, columns=["principal component 1", "principal component 2","principal component 3"]
)
##
# View the first five rows of the DataFrame. 
# YOUR CODE HERE!
df_market_data_pca.head()



# Retrieve the explained variance to determine how much information 
# can be attributed to each principal component.
# YOUR CODE HERE!
pca.explained_variance_ratio_





# Create a new DataFrame with the PCA data.
# Note: The code for this step is provided for you
df_pca_data = pd.DataFrame(
    data=market_data_pca,
    columns=["principal_component_1", "principal_component_2", "principal_component_3"]
)
# Creating a DataFrame with the PCA data
# YOUR CODE HERE!

# Copy the crypto names from the original data
# YOUR CODE HERE!
df_pca_data["coin_id"] = df_market_data.index
# Set the coinid column as index
# YOUR CODE HERE!
df_pca_data.set_index("coin_id", inplace=True)
# Display sample data
# YOUR CODE HERE!
df_pca_data








# Create a list with the number of k-values to try
# Use a range from 1 to 11
# YOUR CODE HERE!
k_values_pca = range(1, 11)


# Create an empy list to store the inertia values
# YOUR CODE HERE!
inertia_values_pca = []


# Create a for loop to compute the inertia with each possible value of k
# Inside the loop:
# 1. Create a KMeans model using the loop counter for the n_clusters
# 2. Fit the model to the data using `df_market_data_pca`
# 3. Append the model.inertia_ to the inertia list
# YOUR CODE HERE
for k in k_values_pca:
    # Create a KMeans model using the loop counter for the n_clusters
    kmeans_model_pca = KMeans(n_clusters=k, random_state=42)
    # Fit the model to the data using `df_market_data_pca`
    kmeans_model_pca.fit(market_data_pca)
    # Append the model.inertia_ to the inertia list
    inertia_values_pca.append(kmeans_model_pca.inertia_)



# Create a dictionary with the data to plot the Elbow curve
# YOUR CODE HERE!
elbow_data_pca = {"k": k_values_pca, "inertia": inertia_values_pca}
# Create a DataFrame with the data to plot the Elbow curve
# YOUR CODE HERE!
df_elbow_pca = pd.DataFrame(elbow_data_pca)
df_elbow_pca.head()


# Plot a line chart with all the inertia values computed with 
# the different values of k to visually identify the optimal value for k.
# YOUR CODE HERE!
df_elbow_pca.hvplot.line(
    x="k", 
    y="inertia", 
    title="Elbow Curve (PCA)", 
    xticks=k
)











# Initialize the K-Means model using the best value for k
# YOUR CODE HERE!
kmeans_model_pca = Kmeans(n_clusters=5, random_state=1)


# Fit the K-Means model using the PCA data
# YOUR CODE HERE!
kmeans_model_pca.fit(market_data_pca)


# Predict the clusters to group the cryptocurrencies using the PCA data
# YOUR CODE HERE!

# View the resulting array of cluster values.
# YOUR CODE HERE!


# Create a copy of the DataFrame with the PCA data
# YOUR CODE HERE!

# Add a new column to the DataFrame with the predicted clusters
# YOUR CODE HERE!

# Display sample data
# YOUR CODE HERE!


# Create a scatter plot using hvPlot by setting 
# `x="PC1"` and `y="PC2"`. 
# Color the graph points with the labels found using K-Means and 
# add the crypto name in the `hover_cols` parameter to identify 
# the cryptocurrency represented by each data point.
# YOUR CODE HERE!








# Composite plot to contrast the Elbow curves
# YOUR CODE HERE!


# Compoosite plot to contrast the clusters
# YOUR CODE HERE!



